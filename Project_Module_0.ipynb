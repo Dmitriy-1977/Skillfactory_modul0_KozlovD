{
 "cells": [
  {
   "cell_type": "markdown",
   "metadata": {},
   "source": [
    "Итоговый проект Module_0"
   ]
  },
  {
   "cell_type": "code",
   "execution_count": 1,
   "metadata": {},
   "outputs": [
    {
     "name": "stdout",
     "output_type": "stream",
     "text": [
      "Загадано число от 1 до 100\n",
      "Ваш алгоритм угадывает число в среднем за 5 попыток\n"
     ]
    },
    {
     "data": {
      "text/plain": [
       "5"
      ]
     },
     "execution_count": 1,
     "metadata": {},
     "output_type": "execute_result"
    }
   ],
   "source": [
    "import numpy as np\n",
    "print('Загадано число от 1 до 100')\n",
    "\n",
    "def game_core_v1(number):\n",
    "    '''Определяем нижнюю и верхнюю границы загадываемого диапазона, \n",
    "    в котором компьютер будет угадывать число, пока не достигнет\n",
    "    правильного значения'''\n",
    "    low_border = 1\n",
    "    high_border = 100\n",
    "    count = 0\n",
    "    predict = np.random.randint(1, 101)\n",
    "\n",
    "    while predict != number:\n",
    "        count += 1\n",
    "        if predict > number:\n",
    "            high_border = predict\n",
    "        elif predict < number:\n",
    "            low_border = predict + 1\n",
    "        '''Вычисляем новое значение угадываемого числа в новых границах,\n",
    "        каждый раз разделяя диапазон пополам'''\n",
    "        predict = (high_border + low_border) // 2   \n",
    "    return (count)\n",
    "\n",
    "def score_game(game_core):\n",
    "    '''Запускаем игру 1000 раз, чтобы узнать, с какой попытки компьютер угадает число'''\n",
    "    count_att = []\n",
    "    np.random.seed(1) # фиксируем RANDOM SEED, чтобы ваш эксперимент был воспроизводим!\n",
    "    random_array = np.random.randint(1, 101, size=(1000))\n",
    "\n",
    "    for number in random_array:\n",
    "        count_att.append(game_core(number))\n",
    "    score = int(np.mean(count_att))\n",
    "    print(f'Ваш алгоритм угадывает число в среднем за {score} попыток'.format(score))\n",
    "    \n",
    "    return(score)\n",
    "\n",
    "score_game(game_core_v1)"
   ]
  }
 ],
 "metadata": {
  "kernelspec": {
   "display_name": "Python 3",
   "language": "python",
   "name": "python3"
  },
  "language_info": {
   "codemirror_mode": {
    "name": "ipython",
    "version": 3
   },
   "file_extension": ".py",
   "mimetype": "text/x-python",
   "name": "python",
   "nbconvert_exporter": "python",
   "pygments_lexer": "ipython3",
   "version": "3.8.5"
  }
 },
 "nbformat": 4,
 "nbformat_minor": 4
}
